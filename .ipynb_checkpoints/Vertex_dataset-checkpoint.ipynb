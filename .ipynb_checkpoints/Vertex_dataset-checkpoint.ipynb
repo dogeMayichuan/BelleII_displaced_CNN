{
 "cells": [
  {
   "cell_type": "markdown",
   "id": "8faad4aa",
   "metadata": {},
   "source": [
    "# This Notebook defines the dataset for the Training"
   ]
  },
  {
   "cell_type": "code",
   "execution_count": 25,
   "id": "b0ee4c34",
   "metadata": {},
   "outputs": [],
   "source": [
    "import numpy as np\n",
    "import pandas as pd\n",
    "import matplotlib.pyplot as plt"
   ]
  },
  {
   "cell_type": "code",
   "execution_count": 1,
   "id": "ac4f354f",
   "metadata": {},
   "outputs": [],
   "source": [
    "class Vertex_DataSet():\n",
    "    master_vertex_56_160_file_path = r\"D:\\KIT\\Ma_Arbeit\\Mark_Matter_dataset\\Hit_Image\\Master_Hit_Image_56_160.csv\" \n",
    "    def __init__(self,path):\n",
    "        self.file_path = path\n",
    "\n",
    "    def _in_np_array(self):\n",
    "        dataframe = pd.read_csv(self.file_path)\n",
    "        temp = dataframe.to_numpy()\n",
    "        # Hits Split\n",
    "        hits = temp[:,:56*160]\n",
    "        # Label Split\n",
    "        label_xy = temp[:,-5:-3]\n",
    "        del temp\n",
    "        return hits,label_xy"
   ]
  },
  {
   "cell_type": "markdown",
   "id": "b65f054d",
   "metadata": {},
   "source": [
    "## read master 160*56 hits frame  "
   ]
  },
  {
   "cell_type": "code",
   "execution_count": 2,
   "id": "4a59f847",
   "metadata": {},
   "outputs": [
    {
     "name": "stdout",
     "output_type": "stream",
     "text": [
      "       # Pixel_0  Pixel_1  Pixel_2  Pixel_3  Pixel_4  Pixel_5  Pixel_6  \\\n",
      "0            0.0      0.0      0.0      0.0      0.0      0.0      0.0   \n",
      "1            0.0      0.0      0.0      0.0      0.0      0.0      0.0   \n",
      "2            0.0      0.0      0.0      0.0      0.0      0.0      0.0   \n",
      "3            0.0      0.0      0.0      0.0      0.0      0.0      0.0   \n",
      "4            0.0      0.0      0.0      0.0      0.0      0.0      0.0   \n",
      "...          ...      ...      ...      ...      ...      ...      ...   \n",
      "45479        0.0      0.0      0.0      0.0      0.0      0.0      0.0   \n",
      "45480        0.0      0.0      0.0      0.0      0.0      0.0      0.0   \n",
      "45481        0.0      0.0      0.0      0.0      0.0      0.0      0.0   \n",
      "45482        0.0      0.0      0.0      0.0      0.0      0.0      0.0   \n",
      "45483        0.0      0.0      0.0      0.0      0.0      0.0      0.0   \n",
      "\n",
      "       Pixel_7  Pixel_8  Pixel_9  ...  Pixel_8955  Pixel_8956  Pixel_8957  \\\n",
      "0          0.0      0.0      0.0  ...         0.0         0.0         0.0   \n",
      "1          0.0      0.0      0.0  ...         0.0         0.0         0.0   \n",
      "2          0.0      0.0      0.0  ...         0.0         0.0         0.0   \n",
      "3          0.0      0.0      0.0  ...         0.0         0.0         0.0   \n",
      "4          0.0      0.0      0.0  ...         0.0         0.0         0.0   \n",
      "...        ...      ...      ...  ...         ...         ...         ...   \n",
      "45479      0.0      0.0      0.0  ...         0.0         0.0         0.0   \n",
      "45480      0.0      0.0      0.0  ...         0.0         0.0         0.0   \n",
      "45481      0.0      0.0      0.0  ...         0.0         0.0         0.0   \n",
      "45482      0.0      0.0      0.0  ...         0.0         0.0         0.0   \n",
      "45483      0.0      0.0      0.0  ...         0.0         0.0         0.0   \n",
      "\n",
      "       Pixel_8958  Pixel_8959  vertex_x  vertex_y   vertex_r  vertex_phi  \\\n",
      "0             0.0         0.0    -10.38      9.16  13.843771  138.572683   \n",
      "1             0.0         0.0     14.34     47.55  49.665260   73.217882   \n",
      "2             0.0         0.0     -4.16      3.51   5.442950  139.844000   \n",
      "3             0.0         0.0     -0.93    -35.24  35.252269  -91.511711   \n",
      "4             0.0         0.0     27.80     74.17  79.208768   69.453268   \n",
      "...           ...         ...       ...       ...        ...         ...   \n",
      "45479         0.0         0.0    -42.19     36.62  55.866094  139.042732   \n",
      "45480         0.0         0.0     33.97     -3.06  34.107543   -5.147282   \n",
      "45481         0.0         0.0     -7.14      0.36   7.149070  177.113581   \n",
      "45482         0.0         0.0    -76.26     -7.10  76.589801 -174.680950   \n",
      "45483         0.0         0.0    -64.32    -18.66  66.972069 -163.821925   \n",
      "\n",
      "         event  \n",
      "0          1.0  \n",
      "1          2.0  \n",
      "2          3.0  \n",
      "3          4.0  \n",
      "4          5.0  \n",
      "...        ...  \n",
      "45479  14994.0  \n",
      "45480  14995.0  \n",
      "45481  14996.0  \n",
      "45482  14997.0  \n",
      "45483  14999.0  \n",
      "\n",
      "[45484 rows x 8965 columns]\n"
     ]
    }
   ],
   "source": []
  },
  {
   "cell_type": "markdown",
   "id": "d635a41f",
   "metadata": {},
   "source": [
    "## Convert to Numpy array\n"
   ]
  },
  {
   "cell_type": "code",
   "execution_count": 17,
   "id": "d6c58fcb",
   "metadata": {},
   "outputs": [
    {
     "name": "stdout",
     "output_type": "stream",
     "text": [
      "(45484, 8965)\n"
     ]
    }
   ],
   "source": []
  },
  {
   "cell_type": "markdown",
   "id": "b8a2e543",
   "metadata": {},
   "source": [
    "## The first 56 * 160 = 8960 elements are the pixels "
   ]
  },
  {
   "cell_type": "code",
   "execution_count": 15,
   "id": "73c9ad7a",
   "metadata": {},
   "outputs": [
    {
     "name": "stdout",
     "output_type": "stream",
     "text": [
      "(45484, 8960)\n"
     ]
    }
   ],
   "source": []
  },
  {
   "cell_type": "markdown",
   "id": "a243df2d",
   "metadata": {},
   "source": [
    "## The last 5 elements are Labeled as x , y , r , phi , event id"
   ]
  },
  {
   "cell_type": "code",
   "execution_count": 18,
   "id": "1c077e33",
   "metadata": {},
   "outputs": [
    {
     "name": "stdout",
     "output_type": "stream",
     "text": [
      "[14.34 47.55]\n"
     ]
    }
   ],
   "source": []
  },
  {
   "cell_type": "code",
   "execution_count": 21,
   "id": "197868f1",
   "metadata": {},
   "outputs": [],
   "source": []
  },
  {
   "cell_type": "code",
   "execution_count": 20,
   "id": "46c461ab",
   "metadata": {},
   "outputs": [
    {
     "name": "stdout",
     "output_type": "stream",
     "text": [
      "(45484, 160, 56)\n"
     ]
    }
   ],
   "source": []
  },
  {
   "cell_type": "code",
   "execution_count": 23,
   "id": "8b52b540",
   "metadata": {},
   "outputs": [
    {
     "name": "stdout",
     "output_type": "stream",
     "text": [
      "(56, 160)\n"
     ]
    }
   ],
   "source": []
  },
  {
   "cell_type": "code",
   "execution_count": 30,
   "id": "36231e0f",
   "metadata": {},
   "outputs": [
    {
     "data": {
      "text/plain": [
       "<matplotlib.image.AxesImage at 0x1e4687cf4c0>"
      ]
     },
     "execution_count": 30,
     "metadata": {},
     "output_type": "execute_result"
    },
    {
     "data": {
      "image/png": "[encoded data removed]",
      "text/plain": [
       "<Figure size 640x480 with 1 Axes>"
      ]
     },
     "metadata": {},
     "output_type": "display_data"
    }
   ],
   "source": []
  },
  {
   "cell_type": "code",
   "execution_count": null,
   "id": "482c7073",
   "metadata": {},
   "outputs": [],
   "source": []
  }
 ],
 "metadata": {
  "kernelspec": {
   "display_name": "Python 3 (ipykernel)",
   "language": "python",
   "name": "python3"
  },
  "language_info": {
   "codemirror_mode": {
    "name": "ipython",
    "version": 3
   },
   "file_extension": ".py",
   "mimetype": "text/x-python",
   "name": "python",
   "nbconvert_exporter": "python",
   "pygments_lexer": "ipython3",
   "version": "3.9.15"
  }
 },
 "nbformat": 4,
 "nbformat_minor": 5
}
