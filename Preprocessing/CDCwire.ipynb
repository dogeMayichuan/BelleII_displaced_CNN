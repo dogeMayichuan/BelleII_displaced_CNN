{
 "cells": [
  {
   "cell_type": "markdown",
   "id": "02682b45",
   "metadata": {},
   "source": [
    "# CDC configuration  "
   ]
  },
  {
   "cell_type": "code",
   "execution_count": 47,
   "id": "2f8df251",
   "metadata": {},
   "outputs": [],
   "source": [
    "\n",
    "import itertools \n",
    "\n",
    "class BelleCdcWire:\n",
    "\n",
    "    layers = 8 * [160] + \\\n",
    "        6 * [160] + \\\n",
    "        6 * [192] + \\\n",
    "        6 * [224] + \\\n",
    "        6 * [256] + \\\n",
    "        6 * [288] + \\\n",
    "        6 * [320] + \\\n",
    "        6 * [352] + \\\n",
    "        6 * [384]\n",
    "\n",
    "    #layerBaseId = itertools.accumulate(layers)  #I dont know why , but this may has version issue, it doesnt return the correct array\n",
    "    layerBaseId = [160, 320, 480, 640, 800, \n",
    "                   960, 1120, 1280, 1440, 1600, 1760, 1920, \n",
    "                   2080, 2240, 2432, 2624, 2816, 3008, 3200, 3392, \n",
    "                   3616, 3840, 4064, 4288, 4512, 4736, 4992, 5248, 5504, \n",
    "                   5760, 6016, 6272, 6560, 6848, 7136, 7424, 7712, 8000, 8320, \n",
    "                   8640, 8960, 9280, 9600, 9920, 10272, 10624, 10976, 11328, 11680, \n",
    "                   12032, 12416, 12800, 13184, 13568, 13952, 14336]\n",
    "\n",
    "    \n",
    "    def __init__(self,wire:int, layer:int):\n",
    "        self.id = self._calculateUniqueId(wire=wire,layer=layer)\n",
    "        self.wire = wire\n",
    "        self.layer = layer\n",
    "\n",
    "    @classmethod\n",
    "    def fromUniqueId(cls,id:int):\n",
    "        layer,wire = cls._calculateWireLayer(id=id)\n",
    "        return cls(wire=wire,layer=layer)\n",
    "        \n",
    "        \n",
    "    @classmethod\n",
    "    def _calculateUniqueId(cls,layer :int,wire:int) -> int:\n",
    "        \"\"\"\n",
    "        This function returns a unique wire id based on the given wireId and layerId.\n",
    "        The configuration of the Belle II detector is based on Technical Report. Layers\n",
    "        are numbered from the interaction point to the outer shell layers.\n",
    "        \"\"\"\n",
    "\n",
    "        if(layer < 0 or layer >= len(cls.layers)):\n",
    "            raise IndexError(f\"Given layer id {layer:d} is out of range [0,{len(cls.layers):d})\")\n",
    "        \n",
    "        if(wire < 0 or wire >= cls.layers[layer]):\n",
    "            raise IndexError(f\"Given wire id {wire:d} is out of range[0,{cls.layers[layer]:d})\")\n",
    "\n",
    "        return wire + sum(cls.layers[:layer])\n",
    "\n",
    "    @classmethod\n",
    "    def _calculateLayerWire(cls,id:int):\n",
    "        if(id < 0 or id >= sum(cls.layers)):\n",
    "            raise IndexError(f\"Given unique id {id:d} is out of range [0,{sum(cls.layers):d})\")\n",
    "\n",
    "        for i,baseId in enumerate(cls.layerBaseId):\n",
    "        #for i,baseId in enumerate(cls.layers):\n",
    "            if(baseId > id):\n",
    "                layerId = i\n",
    "                break\n",
    "        \n",
    "        \n",
    "        wireId = id - sum(cls.layers[:layerId])\n",
    "\n",
    "        return (layerId,wireId)"
   ]
  },
  {
   "cell_type": "code",
   "execution_count": 1,
   "id": "58b5c70e",
   "metadata": {},
   "outputs": [],
   "source": [
    "#belle_II_cdc_Wire = BelleCdcWire(0,1)\n",
    "#belle_II_cdc_Wire.wire\n",
    "#belle_II_cdc_Wire.id\n",
    "#BelleCdcWire._calculateUniqueId(0,1)\n",
    "#x = BelleCdcWire._calculateWireLayer(14335)\n",
    "#BelleCdcWire.fromUniqueId(156)\n",
    "#BelleCdcWire.layerBaseID\n",
    "#print(x[0])\n",
    "#print(x[1])"
   ]
  },
  {
   "cell_type": "code",
   "execution_count": 30,
   "id": "582f54bf",
   "metadata": {},
   "outputs": [
    {
     "name": "stdout",
     "output_type": "stream",
     "text": [
      "[160, 320, 480, 640, 800, 960, 1120, 1280, 1440, 1600, 1760, 1920, 2080, 2240, 2432, 2624, 2816, 3008, 3200, 3392, 3616, 3840, 4064, 4288, 4512, 4736, 4992, 5248, 5504, 5760, 6016, 6272, 6560, 6848, 7136, 7424, 7712, 8000, 8320, 8640, 8960, 9280, 9600, 9920, 10272, 10624, 10976, 11328, 11680, 12032, 12416, 12800, 13184, 13568, 13952, 14336]\n"
     ]
    }
   ],
   "source": [
    "\"\"\"\n",
    "\n",
    "layers = 8 * [160] + \\\n",
    "        6 * [160] + \\\n",
    "        6 * [192] + \\\n",
    "        6 * [224] + \\\n",
    "        6 * [256] + \\\n",
    "        6 * [288] + \\\n",
    "        6 * [320] + \\\n",
    "        6 * [352] + \\\n",
    "        6 * [384]\n",
    "\n",
    " ##### this is equal to accumulate\n",
    "layers1 = layers\n",
    "for i in range(len(layers1)-1):\n",
    "    layers1[i+1] += layers1[i]\n",
    "print(layers1)\n",
    "\n",
    "\"\"\""
   ]
  },
  {
   "cell_type": "code",
   "execution_count": null,
   "id": "463abb07",
   "metadata": {},
   "outputs": [],
   "source": []
  }
 ],
 "metadata": {
  "kernelspec": {
   "display_name": "Python 3 (ipykernel)",
   "language": "python",
   "name": "python3"
  },
  "language_info": {
   "codemirror_mode": {
    "name": "ipython",
    "version": 3
   },
   "file_extension": ".py",
   "mimetype": "text/x-python",
   "name": "python",
   "nbconvert_exporter": "python",
   "pygments_lexer": "ipython3",
   "version": "3.8.13"
  }
 },
 "nbformat": 4,
 "nbformat_minor": 5
}
